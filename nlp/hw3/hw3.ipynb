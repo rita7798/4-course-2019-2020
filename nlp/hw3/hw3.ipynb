{
  "nbformat": 4,
  "nbformat_minor": 0,
  "metadata": {
    "colab": {
      "name": "Copy of Hw3_disambiguation.ipynb",
      "provenance": [],
      "collapsed_sections": []
    },
    "kernelspec": {
      "name": "python3",
      "display_name": "Python 3"
    }
  },
  "cells": [
    {
      "cell_type": "code",
      "metadata": {
        "id": "2eFCrhFx5Xpy",
        "colab_type": "code",
        "outputId": "6f861424-a0b5-4949-fede-9a9e850d81fa",
        "colab": {
          "base_uri": "https://localhost:8080/",
          "height": 34
        }
      },
      "source": [
        "from google.colab import drive\n",
        "drive.mount('/content/drive')"
      ],
      "execution_count": 117,
      "outputs": [
        {
          "output_type": "stream",
          "text": [
            "Drive already mounted at /content/drive; to attempt to forcibly remount, call drive.mount(\"/content/drive\", force_remount=True).\n"
          ],
          "name": "stdout"
        }
      ]
    },
    {
      "cell_type": "markdown",
      "metadata": {
        "id": "sIbk58HIDVTH",
        "colab_type": "text"
      },
      "source": [
        "## из словаря МАС для лексемы острый:\n",
        "\n",
        "1. Имеющий хорошо колющий конец или хорошо режущий край;\n",
        "\n",
        "2. С большим количеством соли, пряностей, специй (о пище);\n",
        "\n",
        "3. Бурно развивающийся, протекающий (о болезнях).\n",
        "\n",
        "Диагностические слова для острый1: нож, карандаш, конус.\n",
        "\n",
        "Диагностические слова для острый2: соус, перец, чили.\n",
        "\n",
        "Диагностические слова для острый3: криз, гепатит, инфаркт."
      ]
    },
    {
      "cell_type": "markdown",
      "metadata": {
        "id": "76-wuskFC6V2",
        "colab_type": "text"
      },
      "source": [
        "подобранные из НКРЯ контексты для выбранной лексемы, по 3 примера на каждое значение, всего 9:"
      ]
    },
    {
      "cell_type": "code",
      "metadata": {
        "id": "b7XjF-byDOUp",
        "colab_type": "code",
        "colab": {}
      },
      "source": [
        "pointed = [\"В руках у безумца ― портфель, в котором лежат четыре предмета: бумажка с адресом Ливии, яблоко, измеритель содержания сахара в крови ― и большой острый нож.\", \"Белая бумага, острый карандаш.\", \"Такой же цвет, такой же широкий, тонкий, острый конус.\"]\n",
        "spicy = [\"Посолить, заправить маслом и уксусом и начать готовить острый томатный соус, который подают отдельно.\", \"Молоко, перец, соль, растительное масло, острый чили, петрушка, кинза, орегано Киноа универсально ― его можно варить, как крупу, можно смолоть в муку и печь из него хлеб, можно сделать растительное масло, прорастить и приготовить из ростков салат…\", \"Туда отправляем мелко нарезанными репчатый лук, копченый бекон или сырое жирное мясо, имбирь, сладкий перец, острый перец, всяческие приправы.\"]\n",
        "illness = [\"Предварительный диагноз ― «острый гипертонический криз».\", \"Если при этом учесть наши весьма скудные возможности лечить острый гепатит B, то удручающая ситуация станет ещё более очевидной.\", \"Николай Никитич умер почти сразу после того скандала. Острый инфаркт.\"]"
      ],
      "execution_count": 0,
      "outputs": []
    },
    {
      "cell_type": "markdown",
      "metadata": {
        "id": "-Q4JOaegCyGb",
        "colab_type": "text"
      },
      "source": [
        "далее  различные установки"
      ]
    },
    {
      "cell_type": "code",
      "metadata": {
        "id": "plXsUgDeGDE-",
        "colab_type": "code",
        "outputId": "8c04f573-2d80-4bf0-f89b-5d2784c91f43",
        "colab": {
          "base_uri": "https://localhost:8080/",
          "height": 204
        }
      },
      "source": [
        "!wget https://s3.amazonaws.com/kostia.lopuhin/all.a010.p10.d300.w5.m100.nonorm.slim.joblib"
      ],
      "execution_count": 0,
      "outputs": [
        {
          "output_type": "stream",
          "text": [
            "--2019-12-25 21:07:21--  https://s3.amazonaws.com/kostia.lopuhin/all.a010.p10.d300.w5.m100.nonorm.slim.joblib\n",
            "Resolving s3.amazonaws.com (s3.amazonaws.com)... 52.216.206.13\n",
            "Connecting to s3.amazonaws.com (s3.amazonaws.com)|52.216.206.13|:443... connected.\n",
            "HTTP request sent, awaiting response... 200 OK\n",
            "Length: 1462416741 (1.4G) [application/x-www-form-urlencoded]\n",
            "Saving to: ‘all.a010.p10.d300.w5.m100.nonorm.slim.joblib’\n",
            "\n",
            "all.a010.p10.d300.w 100%[===================>]   1.36G  93.3MB/s    in 15s     \n",
            "\n",
            "2019-12-25 21:07:41 (95.3 MB/s) - ‘all.a010.p10.d300.w5.m100.nonorm.slim.joblib’ saved [1462416741/1462416741]\n",
            "\n"
          ],
          "name": "stdout"
        }
      ]
    },
    {
      "cell_type": "code",
      "metadata": {
        "id": "ugksEtgwGjHN",
        "colab_type": "code",
        "outputId": "08fcf188-299e-40a1-dc3e-b200601c0adc",
        "colab": {
          "base_uri": "https://localhost:8080/",
          "height": 255
        }
      },
      "source": [
        "!pip install git+https://github.com/lopuhin/python-adagram.git"
      ],
      "execution_count": 0,
      "outputs": [
        {
          "output_type": "stream",
          "text": [
            "Collecting git+https://github.com/lopuhin/python-adagram.git\n",
            "  Cloning https://github.com/lopuhin/python-adagram.git to /tmp/pip-req-build-ol3ld7cn\n",
            "  Running command git clone -q https://github.com/lopuhin/python-adagram.git /tmp/pip-req-build-ol3ld7cn\n",
            "Requirement already satisfied: cython in /usr/local/lib/python3.6/dist-packages (from adagram==0.0.1) (0.29.14)\n",
            "Requirement already satisfied: joblib in /usr/local/lib/python3.6/dist-packages (from adagram==0.0.1) (0.14.1)\n",
            "Requirement already satisfied: numpy>=1.9 in /usr/local/lib/python3.6/dist-packages (from adagram==0.0.1) (1.17.4)\n",
            "Requirement already satisfied: six in /usr/local/lib/python3.6/dist-packages (from adagram==0.0.1) (1.12.0)\n",
            "Building wheels for collected packages: adagram\n",
            "  Building wheel for adagram (setup.py) ... \u001b[?25l\u001b[?25hdone\n",
            "  Created wheel for adagram: filename=adagram-0.0.1-cp36-cp36m-linux_x86_64.whl size=464581 sha256=ae580bf5ac591d612118258e31e1040217c2451859fe77b93ccee85d08138ff1\n",
            "  Stored in directory: /tmp/pip-ephem-wheel-cache-y2hsuwfv/wheels/11/0f/46/f5df96670df8f7973b4c2311ffc9b02e435a7bd3207f992c4d\n",
            "Successfully built adagram\n",
            "Installing collected packages: adagram\n",
            "Successfully installed adagram-0.0.1\n"
          ],
          "name": "stdout"
        }
      ]
    },
    {
      "cell_type": "code",
      "metadata": {
        "id": "GXE7eIUREn3k",
        "colab_type": "code",
        "outputId": "c3e4feb7-bd9a-44dd-999f-a1baee71de99",
        "colab": {
          "base_uri": "https://localhost:8080/",
          "height": 221
        }
      },
      "source": [
        "!pip install pymystem3==0.1.10"
      ],
      "execution_count": 0,
      "outputs": [
        {
          "output_type": "stream",
          "text": [
            "Collecting pymystem3==0.1.10\n",
            "  Downloading https://files.pythonhosted.org/packages/51/56/57e550b53587719e92330a79c7c0f555402d953b00700efae6d5ca53cdef/pymystem3-0.1.10-py3-none-any.whl\n",
            "Requirement already satisfied: requests in /usr/local/lib/python3.6/dist-packages (from pymystem3==0.1.10) (2.21.0)\n",
            "Requirement already satisfied: idna<2.9,>=2.5 in /usr/local/lib/python3.6/dist-packages (from requests->pymystem3==0.1.10) (2.8)\n",
            "Requirement already satisfied: chardet<3.1.0,>=3.0.2 in /usr/local/lib/python3.6/dist-packages (from requests->pymystem3==0.1.10) (3.0.4)\n",
            "Requirement already satisfied: urllib3<1.25,>=1.21.1 in /usr/local/lib/python3.6/dist-packages (from requests->pymystem3==0.1.10) (1.24.3)\n",
            "Requirement already satisfied: certifi>=2017.4.17 in /usr/local/lib/python3.6/dist-packages (from requests->pymystem3==0.1.10) (2019.11.28)\n",
            "Installing collected packages: pymystem3\n",
            "  Found existing installation: pymystem3 0.2.0\n",
            "    Uninstalling pymystem3-0.2.0:\n",
            "      Successfully uninstalled pymystem3-0.2.0\n",
            "Successfully installed pymystem3-0.1.10\n"
          ],
          "name": "stdout"
        }
      ]
    },
    {
      "cell_type": "code",
      "metadata": {
        "id": "FSoKbigiPiBF",
        "colab_type": "code",
        "outputId": "6fee4bf2-a710-4edb-9298-010d1e89c122",
        "colab": {
          "base_uri": "https://localhost:8080/",
          "height": 187
        }
      },
      "source": [
        "!pip install wiki_ru_wordnet"
      ],
      "execution_count": 0,
      "outputs": [
        {
          "output_type": "stream",
          "text": [
            "Collecting wiki_ru_wordnet\n",
            "\u001b[?25l  Downloading https://files.pythonhosted.org/packages/4a/94/0bd5cb96f0b92bc98908194721a1d49f122e3c670fc2705aae19535dee39/wiki_ru_wordnet-1.0.3.tar.gz (20.6MB)\n",
            "\u001b[K     |████████████████████████████████| 20.6MB 44.1MB/s \n",
            "\u001b[?25hBuilding wheels for collected packages: wiki-ru-wordnet\n",
            "  Building wheel for wiki-ru-wordnet (setup.py) ... \u001b[?25l\u001b[?25hdone\n",
            "  Created wheel for wiki-ru-wordnet: filename=wiki_ru_wordnet-1.0.3-cp36-none-any.whl size=20890443 sha256=8943e98db5b5ff2c755dc559bf5c17fdb6dff85c5a0ac007ab2cfd84dabc9351\n",
            "  Stored in directory: /root/.cache/pip/wheels/48/6a/c8/22758a66c35b21c1491861e8ab4809b1fd466d1d2445e99fda\n",
            "Successfully built wiki-ru-wordnet\n",
            "Installing collected packages: wiki-ru-wordnet\n",
            "Successfully installed wiki-ru-wordnet-1.0.3\n"
          ],
          "name": "stdout"
        }
      ]
    },
    {
      "cell_type": "code",
      "metadata": {
        "id": "e5osSc0ADuBF",
        "colab_type": "code",
        "colab": {}
      },
      "source": [
        "import adagram\n",
        "import networkx as nx\n",
        "import re\n",
        "from nltk.tokenize import RegexpTokenizer\n",
        "from pymystem3 import Mystem\n",
        "from sklearn.metrics import accuracy_score\n",
        "from wiki_ru_wordnet import WikiWordnet\n",
        "\n",
        "vm = adagram.VectorModel.load('all.a010.p10.d300.w5.m100.nonorm.slim.joblib')\n",
        "token = RegexpTokenizer('\\w+')\n",
        "m = Mystem()\n",
        "ruwn = WikiWordnet()"
      ],
      "execution_count": 0,
      "outputs": []
    },
    {
      "cell_type": "code",
      "metadata": {
        "id": "L-lCzbK-DlFw",
        "colab_type": "code",
        "colab": {}
      },
      "source": [
        "def tokenize(text):\n",
        "  return token.tokenize(text)\n",
        "\n",
        "def disambiguate(model, word, context):\n",
        "  word, _ = lemmatized_context(word)\n",
        "  probs = model.disambiguate(word, lemmatized_context(context))\n",
        "  return probs.argmax()\n",
        "\n",
        "def lemmatized_context(s):\n",
        "  return [w.lower() for w in m.lemmatize(\" \".join(tokenize(s)))]"
      ],
      "execution_count": 0,
      "outputs": []
    },
    {
      "cell_type": "markdown",
      "metadata": {
        "id": "rfY4uKIhI7nA",
        "colab_type": "text"
      },
      "source": [
        "# AdaGram"
      ]
    },
    {
      "cell_type": "code",
      "metadata": {
        "id": "i_MEA5JhHTKB",
        "colab_type": "code",
        "outputId": "6b0feb03-27c7-4ee6-f8f9-fdcd19351de5",
        "colab": {
          "base_uri": "https://localhost:8080/",
          "height": 377
        }
      },
      "source": [
        "pred = []\n",
        "\n",
        "for topic in [pointed, spicy, illness]:\n",
        "  for i in topic:\n",
        "    d = disambiguate(vm, 'острый', i)\n",
        "    pred.append(d)\n",
        "    print('Пример: ', i, '\\nЗначение: ', d)"
      ],
      "execution_count": 121,
      "outputs": [
        {
          "output_type": "stream",
          "text": [
            "Пример:  В руках у безумца ― портфель, в котором лежат четыре предмета: бумажка с адресом Ливии, яблоко, измеритель содержания сахара в крови ― и большой острый нож. \n",
            "Значение:  3\n",
            "Пример:  Белая бумага, острый карандаш. \n",
            "Значение:  3\n",
            "Пример:  Такой же цвет, такой же широкий, тонкий, острый конус. \n",
            "Значение:  3\n",
            "Пример:  Посолить, заправить маслом и уксусом и начать готовить острый томатный соус, который подают отдельно. \n",
            "Значение:  0\n",
            "Пример:  Молоко, перец, соль, растительное масло, острый чили, петрушка, кинза, орегано Киноа универсально ― его можно варить, как крупу, можно смолоть в муку и печь из него хлеб, можно сделать растительное масло, прорастить и приготовить из ростков салат… \n",
            "Значение:  0\n",
            "Пример:  Туда отправляем мелко нарезанными репчатый лук, копченый бекон или сырое жирное мясо, имбирь, сладкий перец, острый перец, всяческие приправы. \n",
            "Значение:  0\n",
            "Пример:  Предварительный диагноз ― «острый гипертонический криз». \n",
            "Значение:  1\n",
            "Пример:  Если при этом учесть наши весьма скудные возможности лечить острый гепатит B, то удручающая ситуация станет ещё более очевидной. \n",
            "Значение:  2\n",
            "Пример:  Николай Никитич умер почти сразу после того скандала. Острый инфаркт. \n",
            "Значение:  1\n"
          ],
          "name": "stdout"
        },
        {
          "output_type": "stream",
          "text": [
            "/usr/local/lib/python3.6/dist-packages/adagram/model.py:171: RuntimeWarning: divide by zero encountered in log\n",
            "  z = np.log(z)\n"
          ],
          "name": "stderr"
        }
      ]
    },
    {
      "cell_type": "markdown",
      "metadata": {
        "id": "38I9mj39JDDX",
        "colab_type": "text"
      },
      "source": [
        "почти все правильно кроме одного примера, у которого выделилось значение '2' \n",
        "\n",
        "посмотрим на толкования значений и их частотность"
      ]
    },
    {
      "cell_type": "code",
      "metadata": {
        "id": "Id9jJJXq6E5H",
        "colab_type": "code",
        "outputId": "dd0bc9b4-8dca-438b-88e9-23ba2d36294e",
        "colab": {
          "base_uri": "https://localhost:8080/",
          "height": 102
        }
      },
      "source": [
        "vm.word_sense_probs('острый')"
      ],
      "execution_count": 122,
      "outputs": [
        {
          "output_type": "execute_result",
          "data": {
            "text/plain": [
              "[(0, 0.07767787179352821),\n",
              " (1, 0.15569824496419105),\n",
              " (2, 0.22109164403437526),\n",
              " (3, 0.321297390807241),\n",
              " (4, 0.22423407098444537)]"
            ]
          },
          "metadata": {
            "tags": []
          },
          "execution_count": 122
        }
      ]
    },
    {
      "cell_type": "code",
      "metadata": {
        "id": "yAsNE2nH6G7h",
        "colab_type": "code",
        "outputId": "e41a552e-c515-4b5d-bcb1-930dce19f851",
        "colab": {
          "base_uri": "https://localhost:8080/",
          "height": 136
        }
      },
      "source": [
        "for i in range(5):\n",
        "  s = []\n",
        "  for j in vm.sense_neighbors('острый', i):\n",
        "    s.append(j[0])\n",
        "  print(i,' : ',s)"
      ],
      "execution_count": 123,
      "outputs": [
        {
          "output_type": "stream",
          "text": [
            "/usr/local/lib/python3.6/dist-packages/adagram/model.py:124: RuntimeWarning: invalid value encountered in true_divide\n",
            "  sim_matrix = np.dot(self.In, s_v) / self.InNorms\n"
          ],
          "name": "stderr"
        },
        {
          "output_type": "stream",
          "text": [
            "0  :  ['пряный', 'приправлять', 'приправа', 'пикантный', 'перец', 'чесночный', 'кисло-сладкий', 'чили', 'карри', 'пряность']\n",
            "1  :  ['хронический', 'пневмония', 'обострение', 'легочный', 'хронический', 'рецидивирующий', 'рецидивировать', 'подострый', 'миокардит', 'менингит']\n",
            "2  :  ['злободневный', 'трудноразрешимый', 'обострять', 'насущный', 'назревать', 'конфликт', 'нерешенность', 'болезненный', 'нарастание', 'остро']\n",
            "3  :  ['заостренный', 'заострять', 'зазубренный', 'коготь', 'зазубрина', 'тупой', 'изогнутый', 'зазубренный', 'раздваивать', 'лезвие']\n",
            "4  :  ['жгучий', 'жгучий', 'пронзать', 'мучительный', 'нестерпимый', 'тупой', 'притуплять', 'укол', 'болезненный', 'притупляться']\n"
          ],
          "name": "stdout"
        }
      ]
    },
    {
      "cell_type": "markdown",
      "metadata": {
        "id": "rIPwhZmS6Js2",
        "colab_type": "text"
      },
      "source": [
        "если смотреть по толкованиям из AdaGram, я выбрала самое частотное (3 -- острый нож) и два наименее частотных (0 -- острый соус, 1 -- острый менингит)\n",
        "\n",
        "* 0 == мое 2 значение для еды\n",
        "* 1 == мое 3 значение для болезней\n",
        "* 2 — у меня это значение не выделено (Крайне напряженный; критический)\n",
        "* 3 == мое 1 для острых предметов \n",
        "* 4 — у меня это значение не выделено (Очень сильный, ясно, отчетливо ощущаемый)"
      ]
    },
    {
      "cell_type": "markdown",
      "metadata": {
        "id": "IbuyDEEMMgTq",
        "colab_type": "text"
      },
      "source": [
        "далее посмотрим какие значения припишет AdaGram для толкований лексемы"
      ]
    },
    {
      "cell_type": "code",
      "metadata": {
        "id": "GfVbe9b16--2",
        "colab_type": "code",
        "outputId": "5061d5d2-b65d-47b0-c3ec-b31539bf1e77",
        "colab": {
          "base_uri": "https://localhost:8080/",
          "height": 102
        }
      },
      "source": [
        "point = disambiguate(vm, word, '1. Имеющий хорошо колющий конец или хорошо режущий край')\n",
        "print(point)\n",
        "\n",
        "spice = disambiguate(vm, word, '2. С большим количеством соли, пряностей, специй (о пище)')\n",
        "print(spice)\n",
        "\n",
        "ill = disambiguate(vm, word, '3. Бурно развивающийся, протекающий (о болезнях)')\n",
        "print(ill)"
      ],
      "execution_count": 124,
      "outputs": [
        {
          "output_type": "stream",
          "text": [
            "3\n",
            "0\n",
            "1\n"
          ],
          "name": "stdout"
        },
        {
          "output_type": "stream",
          "text": [
            "/usr/local/lib/python3.6/dist-packages/adagram/model.py:171: RuntimeWarning: divide by zero encountered in log\n",
            "  z = np.log(z)\n"
          ],
          "name": "stderr"
        }
      ]
    },
    {
      "cell_type": "markdown",
      "metadata": {
        "id": "m1eK8nWyMqHH",
        "colab_type": "text"
      },
      "source": [
        "здесь все правильно"
      ]
    },
    {
      "cell_type": "markdown",
      "metadata": {
        "id": "pA8omPdQMuU3",
        "colab_type": "text"
      },
      "source": [
        "# WordNet"
      ]
    },
    {
      "cell_type": "code",
      "metadata": {
        "id": "vAZabhpQPhKx",
        "colab_type": "code",
        "outputId": "3ce121ec-8acd-458d-dd72-aef7dde9188b",
        "colab": {
          "base_uri": "https://localhost:8080/",
          "height": 153
        }
      },
      "source": [
        "words = ruwn.get_synsets('острый')\n",
        "defs = []\n",
        "for synset in words:\n",
        "  defs = defs + [i.definition() for i in  synset.get_words()]\n",
        "for i in defs:\n",
        "  d = disambiguate(vm, word, i)\n",
        "  print('Пример: ', i, '\\nЗначение: ', d)"
      ],
      "execution_count": 125,
      "outputs": [
        {
          "output_type": "stream",
          "text": [
            "Пример:  острый~ru~острый~ru~<!-- 3 --> {{п.}} имеющий [[жгучий]] вкус, раздражающий слизистую оболочку рта {{пример|{{выдел|Острый}} перец.}}~48016~88302 \n",
            "Значение:  0\n",
            "Пример:  острый~ru~острый~ru~<!-- 8 --> [[критический]], [[катастрофичный]] {{пример|{{выдел|Острая}} нехватка средств при отсутствии доступных кредитов переросла в финансовый кризис.}}~15128~7782 \n",
            "Значение:  2\n",
            "Пример:  острый~ru~острый~ru~<!-- 1 --> способный легко [[резать]] или [[прокалывать]] {{пример|{{выдел|Острый}} нож.}} {{пример|{{выдел|Острая}} игла.|}}~1067~84838 \n",
            "Значение:  0\n"
          ],
          "name": "stdout"
        },
        {
          "output_type": "stream",
          "text": [
            "/usr/local/lib/python3.6/dist-packages/adagram/model.py:171: RuntimeWarning: divide by zero encountered in log\n",
            "  z = np.log(z)\n"
          ],
          "name": "stderr"
        }
      ]
    },
    {
      "cell_type": "markdown",
      "metadata": {
        "id": "L6vAi89PM0He",
        "colab_type": "text"
      },
      "source": [
        "здесь WordNet неправильно опредилил последний пример. первый правильно про вкус, второй правильно про критические ситации (я это толкование из словаря не брала), а третий должен был выделить самое частотное значение (где острый нож) для колюще-режущих предметов."
      ]
    },
    {
      "cell_type": "markdown",
      "metadata": {
        "id": "XI9pKRYsNpHH",
        "colab_type": "text"
      },
      "source": [
        "# Accuracy"
      ]
    },
    {
      "cell_type": "code",
      "metadata": {
        "id": "sGdYz_9uOndy",
        "colab_type": "code",
        "outputId": "77ead471-5f65-47d4-dd89-8f21941d35e7",
        "colab": {
          "base_uri": "https://localhost:8080/",
          "height": 34
        }
      },
      "source": [
        "true = [point]*3 + [spice]*3 + [ill]*3\n",
        "\n",
        "accuracy_score(true, pred)"
      ],
      "execution_count": 126,
      "outputs": [
        {
          "output_type": "execute_result",
          "data": {
            "text/plain": [
              "0.8888888888888888"
            ]
          },
          "metadata": {
            "tags": []
          },
          "execution_count": 126
        }
      ]
    },
    {
      "cell_type": "markdown",
      "metadata": {
        "id": "bvenFptFNuNS",
        "colab_type": "text"
      },
      "source": [
        "почти отлично, портит статистику пример про острый гепатит, где AdaGram распарсила острый с толкованием критического, крайне напряженного"
      ]
    }
  ]
}