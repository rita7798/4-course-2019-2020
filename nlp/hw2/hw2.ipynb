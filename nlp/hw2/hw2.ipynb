{
 "cells": [
  {
   "cell_type": "code",
   "execution_count": 3,
   "metadata": {},
   "outputs": [
    {
     "name": "stdout",
     "output_type": "stream",
     "text": [
      "Loading UDPipe model: done.\n"
     ]
    }
   ],
   "source": [
    "!/Users/margaritaberseneva/Downloads/udpipe-1.2.0-bin/bin-osx/udpipe --input horizontal --output conllu \\\n",
    "--tokenize --tag --parse \\\n",
    "/Users/margaritaberseneva/Downloads/udpipe-1.2.0-bin/models/russian-syntagrus-ud-2.4-190531.udpipe \\\n",
    "< test_set.txt > test_set.conllu"
   ]
  },
  {
   "cell_type": "code",
   "execution_count": 148,
   "metadata": {},
   "outputs": [],
   "source": [
    "from nltk.parse import DependencyGraph"
   ]
  },
  {
   "cell_type": "code",
   "execution_count": 149,
   "metadata": {},
   "outputs": [],
   "source": [
    "trees = []\n",
    "with open('test_set.conllu', encoding='utf-8') as f:\n",
    "    parsed_sents = f.read().split('\\n\\n')\n",
    "    for sent in parsed_sents:\n",
    "        tree = [line for line in sent.split('\\n') if line and line[0] != '#']\n",
    "        trees.append('\\n'.join(tree))"
   ]
  },
  {
   "cell_type": "code",
   "execution_count": 150,
   "metadata": {},
   "outputs": [],
   "source": [
    "#запишем и посчитаем глаголы\n",
    "verb_count = {}\n",
    "for t in trees:\n",
    "    try:\n",
    "        g = DependencyGraph(t, top_relation_label='root')\n",
    "    except:\n",
    "        continue\n",
    "    for n in g.nodes:\n",
    "        if g.nodes[n]['ctag'] == 'VERB':\n",
    "            if g.nodes[n]['lemma'] in verb_count:\n",
    "                verb_count[g.nodes[n]['lemma']] += 1\n",
    "            else:\n",
    "                verb_count[g.nodes[n]['lemma']] = 1"
   ]
  },
  {
   "cell_type": "code",
   "execution_count": 151,
   "metadata": {},
   "outputs": [],
   "source": [
    "#оставим только те, которые встречаются больше 50 раз\n",
    "freq_verbs = []\n",
    "for verb in verb_count:\n",
    "    if verb_count[verb] >= 50:\n",
    "        freq_verbs.append(verb)"
   ]
  },
  {
   "cell_type": "code",
   "execution_count": 152,
   "metadata": {},
   "outputs": [],
   "source": [
    "#находим Verb+Noun\n",
    "verb_phrases = []\n",
    "for t in trees:\n",
    "    try:\n",
    "        g = DependencyGraph(t, top_relation_label='root')\n",
    "        for t in g.triples():\n",
    "            if t[0][1] == 'VERB' and t[1] == 'obj' and t[2][1] == 'NOUN':\n",
    "                if t[0][0] in freq_verbs:\n",
    "                    phrase = [t[0][0], t[2][0]]\n",
    "                    verb_phrases.append(phrase)\n",
    "    except:\n",
    "        continue"
   ]
  },
  {
   "cell_type": "code",
   "execution_count": 153,
   "metadata": {},
   "outputs": [
    {
     "data": {
      "text/plain": [
       "[['признать', 'договор'],\n",
       " ['вынести', 'приговор'],\n",
       " ['признать', 'ответственность'],\n",
       " ['выплатить', 'компенсации'],\n",
       " ['обжаловать', 'санкцию'],\n",
       " ['удовлетворить', 'жалобу'],\n",
       " ['взыскать', 'деньги'],\n",
       " ['обжаловать', 'санкцию'],\n",
       " ['оспаривать', 'решение'],\n",
       " ['оспаривать', 'решение']]"
      ]
     },
     "execution_count": 153,
     "metadata": {},
     "output_type": "execute_result"
    }
   ],
   "source": [
    "verb_phrases[:10]"
   ]
  },
  {
   "cell_type": "code",
   "execution_count": 154,
   "metadata": {},
   "outputs": [],
   "source": [
    "#оценка метриками\n",
    "import nltk\n",
    "from nltk.collocations import *\n",
    "\n",
    "bigram_measures = nltk.collocations.BigramAssocMeasures()\n",
    "finder = BigramCollocationFinder.from_documents(verb_phrases)"
   ]
  },
  {
   "cell_type": "code",
   "execution_count": 155,
   "metadata": {},
   "outputs": [
    {
     "data": {
      "text/plain": [
       "[('делать', 'вид'),\n",
       " ('отказать', 'жалобы'),\n",
       " ('сообщить', 'сведения'),\n",
       " ('стать', 'обыски'),\n",
       " ('арестовывать', 'счета'),\n",
       " ('объявить', 'перерыв'),\n",
       " ('назначить', 'наказание'),\n",
       " ('назначить', 'сроки'),\n",
       " ('обвинить', 'военнослужащих'),\n",
       " ('обвинить', 'лидера')]"
      ]
     },
     "execution_count": 155,
     "metadata": {},
     "output_type": "execute_result"
    }
   ],
   "source": [
    "pmi = finder.nbest(bigram_measures.pmi, 100)\n",
    "pmi[:10]"
   ]
  },
  {
   "cell_type": "code",
   "execution_count": 156,
   "metadata": {},
   "outputs": [
    {
     "data": {
      "text/plain": [
       "[('делать', 'вид'),\n",
       " ('объявить', 'перерыв'),\n",
       " ('отказать', 'жалобы'),\n",
       " ('сообщить', 'сведения'),\n",
       " ('стать', 'обыски'),\n",
       " ('назначить', 'наказание'),\n",
       " ('запретить', 'деятельность'),\n",
       " ('арестовывать', 'счета'),\n",
       " ('передать', 'дело'),\n",
       " ('просить', 'суд')]"
      ]
     },
     "execution_count": 156,
     "metadata": {},
     "output_type": "execute_result"
    }
   ],
   "source": [
    "scores = finder.score_ngrams(bigram_measures.dice)\n",
    "dice = [x[0] for x in scores]\n",
    "dice[:10]"
   ]
  },
  {
   "cell_type": "code",
   "execution_count": 157,
   "metadata": {},
   "outputs": [
    {
     "data": {
      "text/plain": [
       "[('обжаловать', 'решение'),\n",
       " ('передать', 'дело'),\n",
       " ('запретить', 'деятельность'),\n",
       " ('назначить', 'наказание'),\n",
       " ('рассмотреть', 'вопрос'),\n",
       " ('вынести', 'приговор'),\n",
       " ('просить', 'суд'),\n",
       " ('удовлетворить', 'жалобу'),\n",
       " ('выплатить', 'штраф'),\n",
       " ('подать', 'иск')]"
      ]
     },
     "execution_count": 157,
     "metadata": {},
     "output_type": "execute_result"
    }
   ],
   "source": [
    "logl = finder.nbest(bigram_measures.likelihood_ratio, 100)\n",
    "logl[:10]"
   ]
  },
  {
   "cell_type": "code",
   "execution_count": 158,
   "metadata": {},
   "outputs": [
    {
     "name": "stdout",
     "output_type": "stream",
     "text": [
      "55\n"
     ]
    }
   ],
   "source": [
    "#смотрим на пересечение трех метрик\n",
    "intersection = list(set(pmi) & set(dice) & set(logl))\n",
    "print(len(intersection))"
   ]
  },
  {
   "cell_type": "code",
   "execution_count": 159,
   "metadata": {},
   "outputs": [
    {
     "data": {
      "text/plain": [
       "[('доказать', 'правоту'),\n",
       " ('иметь', 'последствия'),\n",
       " ('направить', 'документы'),\n",
       " ('считать', 'выплату'),\n",
       " ('иметь', 'слова'),\n",
       " ('предъявить', 'обвинения'),\n",
       " ('сообщить', 'сведения'),\n",
       " ('передать', 'дело'),\n",
       " ('доказать', 'невиновность'),\n",
       " ('пройти', 'курс')]"
      ]
     },
     "execution_count": 159,
     "metadata": {},
     "output_type": "execute_result"
    }
   ],
   "source": [
    "intersection[:10]"
   ]
  },
  {
   "cell_type": "code",
   "execution_count": 160,
   "metadata": {},
   "outputs": [],
   "source": [
    "#подгружаем словарь глагольной сочетаемости\n",
    "with open(\"verb_coll.txt\", \"r\", encoding='utf-8') as d:\n",
    "    t = d.read().split('\\n')"
   ]
  },
  {
   "cell_type": "code",
   "execution_count": 161,
   "metadata": {},
   "outputs": [],
   "source": [
    "colls = []\n",
    "for i in t:\n",
    "    tri = i.split('\\t')\n",
    "    if tri != ['']:\n",
    "        colls.append(tri[2])"
   ]
  },
  {
   "cell_type": "code",
   "execution_count": 162,
   "metadata": {},
   "outputs": [
    {
     "data": {
      "text/plain": [
       "['аборт делать',\n",
       " 'делать аборт',\n",
       " 'сделать аборт',\n",
       " 'авария произошла',\n",
       " 'авария случилась',\n",
       " 'потерпеть аварию',\n",
       " 'произошла авария',\n",
       " 'случилась авария',\n",
       " 'завоевать авторитет',\n",
       " 'подорвать авторитет']"
      ]
     },
     "execution_count": 162,
     "metadata": {},
     "output_type": "execute_result"
    }
   ],
   "source": [
    "colls[:10]"
   ]
  },
  {
   "cell_type": "code",
   "execution_count": 163,
   "metadata": {},
   "outputs": [],
   "source": [
    "import pymorphy2\n",
    "morph = pymorphy2.MorphAnalyzer()"
   ]
  },
  {
   "cell_type": "code",
   "execution_count": 164,
   "metadata": {},
   "outputs": [],
   "source": [
    "#немного поработаем над коллокациями, оставим только порядок Verb+Noun\n",
    "new_colls = []\n",
    "for i in colls:\n",
    "    words = i.split()\n",
    "    pos = []\n",
    "    for w in words:\n",
    "        p = morph.parse(w)[0]\n",
    "        tags = str(p.tag).split(',')\n",
    "        pos.append(tags[0])\n",
    "    if pos[-1] == 'NOUN':\n",
    "        pair = []\n",
    "        for j in i.split():\n",
    "            pp = morph.parse(j)[0]\n",
    "            token = pp.normal_form\n",
    "            pair.append(token)\n",
    "        s = tuple(pair)\n",
    "        new_colls.append(s)"
   ]
  },
  {
   "cell_type": "code",
   "execution_count": 165,
   "metadata": {},
   "outputs": [
    {
     "data": {
      "text/plain": [
       "[('делать', 'аборт'),\n",
       " ('сделать', 'аборт'),\n",
       " ('потерпеть', 'авария'),\n",
       " ('произойти', 'авария'),\n",
       " ('случиться', 'авария'),\n",
       " ('завоевать', 'авторитет'),\n",
       " ('подорвать', 'авторитет'),\n",
       " ('подорвать', 'авторитет'),\n",
       " ('пользоваться', 'авторитет'),\n",
       " ('пользоваться', 'больший', 'авторитет')]"
      ]
     },
     "execution_count": 165,
     "metadata": {},
     "output_type": "execute_result"
    }
   ],
   "source": [
    "new_colls[:10]"
   ]
  },
  {
   "cell_type": "code",
   "execution_count": 166,
   "metadata": {},
   "outputs": [
    {
     "data": {
      "text/plain": [
       "{('дать', 'заключение'),\n",
       " ('делать', 'вид'),\n",
       " ('объявить', 'перерыв'),\n",
       " ('передать', 'дело'),\n",
       " ('предъявить', 'обвинение'),\n",
       " ('пройти', 'курс')}"
      ]
     },
     "execution_count": 166,
     "metadata": {},
     "output_type": "execute_result"
    }
   ],
   "source": [
    "#пересекаем еще и со словарем глагольной сочетаемости\n",
    "gold = set(intersection) & set(new_colls)\n",
    "gold"
   ]
  },
  {
   "cell_type": "code",
   "execution_count": 168,
   "metadata": {},
   "outputs": [],
   "source": [
    "#добавим еще примеры коллокаций\n",
    "add = set()\n",
    "s = 'назначить наказание, доказать невиновность, \\\n",
    "            решить судьбу, пройти проверку'\n",
    "for w in s.split(','):\n",
    "    add.add(tuple(w.split()))"
   ]
  },
  {
   "cell_type": "code",
   "execution_count": 169,
   "metadata": {},
   "outputs": [
    {
     "data": {
      "text/plain": [
       "{('доказать', 'невиновность'),\n",
       " ('назначить', 'наказание'),\n",
       " ('пройти', 'проверку'),\n",
       " ('решить', 'судьбу')}"
      ]
     },
     "execution_count": 169,
     "metadata": {},
     "output_type": "execute_result"
    }
   ],
   "source": [
    "add"
   ]
  },
  {
   "cell_type": "code",
   "execution_count": 170,
   "metadata": {},
   "outputs": [],
   "source": [
    "#получаем новое пересечение\n",
    "new_gold = gold | add"
   ]
  },
  {
   "cell_type": "code",
   "execution_count": 171,
   "metadata": {},
   "outputs": [
    {
     "data": {
      "text/plain": [
       "{('дать', 'заключение'),\n",
       " ('делать', 'вид'),\n",
       " ('доказать', 'невиновность'),\n",
       " ('назначить', 'наказание'),\n",
       " ('объявить', 'перерыв'),\n",
       " ('передать', 'дело'),\n",
       " ('предъявить', 'обвинение'),\n",
       " ('пройти', 'курс'),\n",
       " ('пройти', 'проверку'),\n",
       " ('решить', 'судьбу')}"
      ]
     },
     "execution_count": 171,
     "metadata": {},
     "output_type": "execute_result"
    }
   ],
   "source": [
    "new_gold"
   ]
  },
  {
   "cell_type": "code",
   "execution_count": 172,
   "metadata": {},
   "outputs": [],
   "source": [
    "#переводим коллокаций из множеств в массивы\n",
    "collocations = []\n",
    "c = []\n",
    "for col in new_gold:\n",
    "    for w in col:\n",
    "        c.append(w)\n",
    "    collocations.append(c)\n",
    "    c = []"
   ]
  },
  {
   "cell_type": "code",
   "execution_count": 173,
   "metadata": {},
   "outputs": [
    {
     "data": {
      "text/plain": [
       "[['решить', 'судьбу'],\n",
       " ['доказать', 'невиновность'],\n",
       " ['предъявить', 'обвинение'],\n",
       " ['объявить', 'перерыв'],\n",
       " ['назначить', 'наказание'],\n",
       " ['пройти', 'проверку'],\n",
       " ['дать', 'заключение'],\n",
       " ['передать', 'дело'],\n",
       " ['делать', 'вид'],\n",
       " ['пройти', 'курс']]"
      ]
     },
     "execution_count": 173,
     "metadata": {},
     "output_type": "execute_result"
    }
   ],
   "source": [
    "collocations"
   ]
  },
  {
   "cell_type": "code",
   "execution_count": 174,
   "metadata": {},
   "outputs": [
    {
     "name": "stderr",
     "output_type": "stream",
     "text": [
      "/Library/Frameworks/Python.framework/Versions/3.6/lib/python3.6/site-packages/scipy/stats/stats.py:245: RuntimeWarning: The input array could not be properly checked for nan values. nan values will be ignored.\n",
      "  \"values. nan values will be ignored.\", RuntimeWarning)\n"
     ]
    },
    {
     "data": {
      "text/plain": [
       "SpearmanrResult(correlation=0.6322217654272672, pvalue=0.049846099509679546)"
      ]
     },
     "execution_count": 174,
     "metadata": {},
     "output_type": "execute_result"
    }
   ],
   "source": [
    "#считаем коэффициент Спирмена\n",
    "from scipy import stats\n",
    "\n",
    "stats.spearmanr(collocations)"
   ]
  },
  {
   "cell_type": "code",
   "execution_count": 175,
   "metadata": {},
   "outputs": [
    {
     "name": "stdout",
     "output_type": "stream",
     "text": [
      "SpearmanrResult(correlation=0.4642857142857144, pvalue=0.2939341076002517)\n"
     ]
    },
    {
     "name": "stderr",
     "output_type": "stream",
     "text": [
      "/Library/Frameworks/Python.framework/Versions/3.6/lib/python3.6/site-packages/scipy/stats/stats.py:245: RuntimeWarning: The input array could not be properly checked for nan values. nan values will be ignored.\n",
      "  \"values. nan values will be ignored.\", RuntimeWarning)\n"
     ]
    }
   ],
   "source": [
    "finder2 = BigramCollocationFinder.from_documents(collocations)\n",
    "pmi = finder2.nbest(bigram_measures.pmi, 7)\n",
    "print(stats.spearmanr(pmi))"
   ]
  },
  {
   "cell_type": "code",
   "execution_count": 176,
   "metadata": {},
   "outputs": [
    {
     "name": "stdout",
     "output_type": "stream",
     "text": [
      "SpearmanrResult(correlation=0.4642857142857144, pvalue=0.2939341076002517)\n"
     ]
    },
    {
     "name": "stderr",
     "output_type": "stream",
     "text": [
      "/Library/Frameworks/Python.framework/Versions/3.6/lib/python3.6/site-packages/scipy/stats/stats.py:245: RuntimeWarning: The input array could not be properly checked for nan values. nan values will be ignored.\n",
      "  \"values. nan values will be ignored.\", RuntimeWarning)\n"
     ]
    }
   ],
   "source": [
    "logl = finder2.nbest(bigram_measures.likelihood_ratio, 7)\n",
    "print(stats.spearmanr(logl))"
   ]
  },
  {
   "cell_type": "code",
   "execution_count": 177,
   "metadata": {},
   "outputs": [
    {
     "name": "stdout",
     "output_type": "stream",
     "text": [
      "SpearmanrResult(correlation=0.6322217654272672, pvalue=0.049846099509679546)\n"
     ]
    },
    {
     "name": "stderr",
     "output_type": "stream",
     "text": [
      "/Library/Frameworks/Python.framework/Versions/3.6/lib/python3.6/site-packages/scipy/stats/stats.py:245: RuntimeWarning: The input array could not be properly checked for nan values. nan values will be ignored.\n",
      "  \"values. nan values will be ignored.\", RuntimeWarning)\n"
     ]
    }
   ],
   "source": [
    "scores = finder2.score_ngrams(bigram_measures.dice)\n",
    "dice = [x[0] for x in scores]\n",
    "print(stats.spearmanr(dice))"
   ]
  },
  {
   "cell_type": "markdown",
   "metadata": {},
   "source": [
    "Метрики разделились на два лагеря, и я, если честно, не совсем знаю, о чем это говорит..."
   ]
  }
 ],
 "metadata": {
  "kernelspec": {
   "display_name": "Python 3",
   "language": "python",
   "name": "python3"
  },
  "language_info": {
   "codemirror_mode": {
    "name": "ipython",
    "version": 3
   },
   "file_extension": ".py",
   "mimetype": "text/x-python",
   "name": "python",
   "nbconvert_exporter": "python",
   "pygments_lexer": "ipython3",
   "version": "3.6.4"
  }
 },
 "nbformat": 4,
 "nbformat_minor": 2
}
