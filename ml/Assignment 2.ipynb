{
 "cells": [
  {
   "cell_type": "markdown",
   "metadata": {
    "colab_type": "text",
    "id": "ICFqKx_DxGak"
   },
   "source": [
    "# Assignment 2"
   ]
  },
  {
   "cell_type": "markdown",
   "metadata": {
    "colab_type": "text",
    "id": "1QzCqyxPxGaw"
   },
   "source": [
    "Demostrate consequences of No Free Lunch Theorem: every model of machine learning makes **assumptions** about dataset properties. If the assumption fails, model perfoms badly. If the assumption is met, model perfoms good.\n",
    "\n",
    "For each of the tasks, described below:\n",
    "1. create a dataset to meet the description. For demonstration purposes, feature dimension size = 2    \n",
    "1. train the models and evaluate accuracy. (with a training pipeline, described in the seminar: separate the data into *train, validation, and test*) \n",
    "1. Show which model is better.   \n",
    "1. Write what assumptions were used, and why model exibits such behavior.  \n",
    "1. Plot dataset to demonstrate its properties. (Scatter plot, classes with different colors)  \n",
    "\n",
    "\n",
    "Tasks:\n",
    "\n",
    "1. Create dataset for binary classification task (binary crossentropy), \n",
    "where k-NN perfoms **worse** than logistic regression\n",
    "\n",
    "2. Create dataset for binary classification task (binary crossentropy), \n",
    "where logistic regression perfoms **worse** than k-NN\n",
    "\n",
    "3. Create dataset for binary classification task (binary crossentropy), \n",
    "where k-NN with cosine distance perfoms **better** than k-NN with euclidean distance\n",
    "\n",
    "\n",
    "! If there is no explanation, why one model perfoms better than the other on your dataset, the task does not count.  \n",
    "! if the training pipeline is not used, the task does not count.  "
   ]
  },
  {
   "cell_type": "code",
   "execution_count": 1,
   "metadata": {
    "colab": {},
    "colab_type": "code",
    "id": "gChxukLg6p1h"
   },
   "outputs": [],
   "source": [
    "import matplotlib.pyplot as plt\n",
    "import numpy as np\n",
    "\n",
    "from sklearn.datasets import make_circles\n",
    "from sklearn.linear_model import LogisticRegression\n",
    "from sklearn.model_selection import train_test_split, GridSearchCV\n",
    "from sklearn.neighbors import KNeighborsClassifier"
   ]
  },
  {
   "cell_type": "code",
   "execution_count": 2,
   "metadata": {},
   "outputs": [],
   "source": [
    "def pipeline(model, X, y, params):\n",
    "    print(\"Model: \", model)\n",
    "    X_train, X_test, y_train, y_test = train_test_split(X, y, test_size=0.3, random_state=33)\n",
    "    model.fit(X_train, y_train)\n",
    "    print(\"Train accuracy: \", model.score(X_train, y_train))\n",
    "    grid_search = GridSearchCV(model, cv=5, param_grid=params)\n",
    "    grid_search.fit(X_train, y_train)\n",
    "    print(\"Accuracy after validation: \", grid_search.best_score_)\n",
    "    print(\"Test accuracy: \", grid_search.best_estimator_.score(X_test, y_test))"
   ]
  },
  {
   "cell_type": "markdown",
   "metadata": {},
   "source": [
    "## 1. k-NN perfoms worse than logistic regression"
   ]
  },
  {
   "cell_type": "markdown",
   "metadata": {},
   "source": [
    "1. модель knn лучше определяет классы, когда объекты одного класса находятся близко друг к другу.\n",
    "2. в модели logistic regression наилучший результат будет достигаться для линейно разделимой выборки.\n",
    "\n",
    "тогда, чтобы модель knn справилась хуже, чем LR, приведем пример, где расстояния между двумя классами меньше, чем между объектами одного класса."
   ]
  },
  {
   "cell_type": "code",
   "execution_count": 3,
   "metadata": {},
   "outputs": [
    {
     "data": {
      "text/plain": [
       "<matplotlib.collections.PathCollection at 0x1148034e0>"
      ]
     },
     "execution_count": 3,
     "metadata": {},
     "output_type": "execute_result"
    },
    {
     "data": {
      "image/png": "[encoded data removed]",
      "text/plain": [
       "<Figure size 360x360 with 1 Axes>"
      ]
     },
     "metadata": {},
     "output_type": "display_data"
    }
   ],
   "source": [
    "plt.figure(figsize=(5, 5))\n",
    "plt.title('Task 1')\n",
    "\n",
    "x1 = [(x, x) for x in range(0, 100, 5)]\n",
    "x2 = [(x, z+4) for x, z in x1]\n",
    "\n",
    "xs1 = np.array(x1)\n",
    "xs2 = np.array(x2)\n",
    "X = np.array(x1+x2)\n",
    "y = np.array([0]*20 + [1]*20)\n",
    "\n",
    "plt.scatter([i[0] for i in xs1], [i[1] for i in xs1], c='r')\n",
    "plt.scatter([i[0] for i in xs2], [i[1] for i in xs2], c='g')"
   ]
  },
  {
   "cell_type": "code",
   "execution_count": 4,
   "metadata": {},
   "outputs": [
    {
     "name": "stdout",
     "output_type": "stream",
     "text": [
      "Model:  LogisticRegression(C=1.0, class_weight=None, dual=False, fit_intercept=True,\n",
      "          intercept_scaling=1, max_iter=100, multi_class='warn',\n",
      "          n_jobs=None, penalty='l2', random_state=None, solver='liblinear',\n",
      "          tol=0.0001, verbose=0, warm_start=False)\n",
      "Train accuracy:  1.0\n",
      "Accuracy after validation:  1.0\n",
      "Test accuracy:  1.0\n"
     ]
    }
   ],
   "source": [
    "pipeline(LogisticRegression(solver='liblinear'), X, y, {'C':np.linspace(0.1,1,10)})"
   ]
  },
  {
   "cell_type": "code",
   "execution_count": 5,
   "metadata": {},
   "outputs": [
    {
     "name": "stdout",
     "output_type": "stream",
     "text": [
      "Model:  KNeighborsClassifier(algorithm='auto', leaf_size=30, metric='minkowski',\n",
      "           metric_params=None, n_jobs=None, n_neighbors=5, p=2,\n",
      "           weights='uniform')\n",
      "Train accuracy:  0.75\n",
      "Accuracy after validation:  0.5357142857142857\n",
      "Test accuracy:  0.3333333333333333\n"
     ]
    },
    {
     "name": "stderr",
     "output_type": "stream",
     "text": [
      "/Library/Frameworks/Python.framework/Versions/3.6/lib/python3.6/site-packages/sklearn/model_selection/_search.py:841: DeprecationWarning: The default of the `iid` parameter will change from True to False in version 0.22 and will be removed in 0.24. This will change numeric results when test-set sizes are unequal.\n",
      "  DeprecationWarning)\n"
     ]
    }
   ],
   "source": [
    "pipeline(KNeighborsClassifier(p=2), X, y, {'n_neighbors':np.arange(1,10)})"
   ]
  },
  {
   "cell_type": "markdown",
   "metadata": {},
   "source": [
    "Из результатов видно, что LR справился намного лучше, чем knn."
   ]
  },
  {
   "cell_type": "markdown",
   "metadata": {
    "colab_type": "text",
    "id": "-L-CLFos5dYY"
   },
   "source": [
    "## 2.  logistic regression perfoms worse than k-NN"
   ]
  },
  {
   "cell_type": "markdown",
   "metadata": {},
   "source": [
    "1. модель knn лучше определяет классы, когда объекты одного класса находятся близко друг к другу.\n",
    "2. в модели logistic regression наилучший результат будет достигаться для линейно разделимой выборки.\n",
    "\n",
    "тогда, чтобы LR справилась хуже, чем knn, приведем пример, где два класса линейно неразделимы."
   ]
  },
  {
   "cell_type": "code",
   "execution_count": 6,
   "metadata": {},
   "outputs": [
    {
     "data": {
      "text/plain": [
       "<matplotlib.collections.PathCollection at 0x10ce9d2e8>"
      ]
     },
     "execution_count": 6,
     "metadata": {},
     "output_type": "execute_result"
    },
    {
     "data": {
      "image/png": "[encoded data removed]",
      "text/plain": [
       "<Figure size 360x360 with 1 Axes>"
      ]
     },
     "metadata": {},
     "output_type": "display_data"
    }
   ],
   "source": [
    "plt.figure(figsize=(5, 5))\n",
    "plt.title('Task 2')\n",
    "\n",
    "X, y = make_circles(n_samples=100, factor=0.5)\n",
    "\n",
    "plt.scatter(X[:, 0], X[:, 1], c=y)"
   ]
  },
  {
   "cell_type": "code",
   "execution_count": 7,
   "metadata": {
    "colab": {},
    "colab_type": "code",
    "id": "BQpAFpCL5hGr"
   },
   "outputs": [
    {
     "name": "stdout",
     "output_type": "stream",
     "text": [
      "Model:  LogisticRegression(C=1.0, class_weight=None, dual=False, fit_intercept=True,\n",
      "          intercept_scaling=1, max_iter=100, multi_class='warn',\n",
      "          n_jobs=None, penalty='l2', random_state=None, solver='liblinear',\n",
      "          tol=0.0001, verbose=0, warm_start=False)\n",
      "Train accuracy:  0.5142857142857142\n",
      "Accuracy after validation:  0.34285714285714286\n",
      "Test accuracy:  0.4666666666666667\n"
     ]
    }
   ],
   "source": [
    "pipeline(LogisticRegression(solver='liblinear'), X, y, {'C':np.linspace(0.1,1,10)})"
   ]
  },
  {
   "cell_type": "code",
   "execution_count": 8,
   "metadata": {},
   "outputs": [
    {
     "name": "stdout",
     "output_type": "stream",
     "text": [
      "Model:  KNeighborsClassifier(algorithm='auto', leaf_size=30, metric='minkowski',\n",
      "           metric_params=None, n_jobs=None, n_neighbors=5, p=2,\n",
      "           weights='uniform')\n",
      "Train accuracy:  1.0\n",
      "Accuracy after validation:  1.0\n",
      "Test accuracy:  1.0\n"
     ]
    }
   ],
   "source": [
    "pipeline(KNeighborsClassifier(p=2), X, y, {'n_neighbors':np.arange(1,30)})"
   ]
  },
  {
   "cell_type": "markdown",
   "metadata": {},
   "source": [
    "Из результатов видно, что knn справился намного лучше, чем LR."
   ]
  },
  {
   "cell_type": "markdown",
   "metadata": {
    "colab_type": "text",
    "id": "5OTvQ5tt5p2c"
   },
   "source": [
    "## 3. k-NN with cosine distance perfoms better than k-NN with euclidean distance"
   ]
  },
  {
   "cell_type": "markdown",
   "metadata": {},
   "source": [
    "1. модель knn с косинусной близостью лучше отделяет два класса, когда угол между векторами равен нулю и они совпадают. \n",
    "2. модель knn с евклидовым расстоянием опирается на расстояния между векторами.\n",
    "\n",
    "тогда, чтобы knn с косинусной близостью справился лучше, чем knn с евклидовым расстоянием, построим для одного класса прямую, чтобы евклидово расстояние было равно нулю, а в другом классе рандомно разместим точки по графику."
   ]
  },
  {
   "cell_type": "code",
   "execution_count": 9,
   "metadata": {
    "colab": {},
    "colab_type": "code",
    "id": "kx_jQ4jR5mb2"
   },
   "outputs": [
    {
     "data": {
      "text/plain": [
       "<matplotlib.collections.PathCollection at 0x116b37390>"
      ]
     },
     "execution_count": 9,
     "metadata": {},
     "output_type": "execute_result"
    },
    {
     "data": {
      "image/png": "[encoded data removed]",
      "text/plain": [
       "<Figure size 360x360 with 1 Axes>"
      ]
     },
     "metadata": {},
     "output_type": "display_data"
    }
   ],
   "source": [
    "plt.figure(figsize=(5, 5))\n",
    "plt.title('Task3')\n",
    "\n",
    "x = np.arange(0, 100)\n",
    "\n",
    "x1 = np.array([(x[i], 0) for i in range(0, 100)])\n",
    "x2 = np.array([(x[i], np.random.randint(1, 10, 1)[0]) for i in range(0, 100)])\n",
    "\n",
    "X = np.append(x1, x2, axis=0)\n",
    "y = np.array([0 if i<100 else 1 for i in range(200)])\n",
    "\n",
    "plt.scatter([i[0] for i in x1],[i[1] for i in x1], c='orange')\n",
    "plt.scatter([i[0] for i in x2], [i[1] for i in x2], c='blue')"
   ]
  },
  {
   "cell_type": "code",
   "execution_count": 10,
   "metadata": {},
   "outputs": [
    {
     "name": "stdout",
     "output_type": "stream",
     "text": [
      "Model:  KNeighborsClassifier(algorithm='auto', leaf_size=30, metric='euclidean',\n",
      "           metric_params=None, n_jobs=None, n_neighbors=5, p=2,\n",
      "           weights='uniform')\n",
      "Train accuracy:  0.9071428571428571\n",
      "Accuracy after validation:  0.9\n",
      "Test accuracy:  0.85\n"
     ]
    },
    {
     "name": "stderr",
     "output_type": "stream",
     "text": [
      "/Library/Frameworks/Python.framework/Versions/3.6/lib/python3.6/site-packages/sklearn/model_selection/_search.py:841: DeprecationWarning: The default of the `iid` parameter will change from True to False in version 0.22 and will be removed in 0.24. This will change numeric results when test-set sizes are unequal.\n",
      "  DeprecationWarning)\n"
     ]
    }
   ],
   "source": [
    "pipeline(KNeighborsClassifier(metric=\"euclidean\"), X, y, {'n_neighbors': range(1, 30)})"
   ]
  },
  {
   "cell_type": "code",
   "execution_count": 11,
   "metadata": {},
   "outputs": [
    {
     "name": "stdout",
     "output_type": "stream",
     "text": [
      "Model:  KNeighborsClassifier(algorithm='auto', leaf_size=30, metric='cosine',\n",
      "           metric_params=None, n_jobs=None, n_neighbors=5, p=2,\n",
      "           weights='uniform')\n",
      "Train accuracy:  0.9928571428571429\n",
      "Accuracy after validation:  0.9928571428571429\n",
      "Test accuracy:  1.0\n"
     ]
    },
    {
     "name": "stderr",
     "output_type": "stream",
     "text": [
      "/Library/Frameworks/Python.framework/Versions/3.6/lib/python3.6/site-packages/sklearn/model_selection/_search.py:841: DeprecationWarning: The default of the `iid` parameter will change from True to False in version 0.22 and will be removed in 0.24. This will change numeric results when test-set sizes are unequal.\n",
      "  DeprecationWarning)\n"
     ]
    }
   ],
   "source": [
    "pipeline(KNeighborsClassifier(metric=\"cosine\"), X, y, {'n_neighbors': range(1, 30)})"
   ]
  },
  {
   "cell_type": "markdown",
   "metadata": {},
   "source": [
    "Из результатов видно, что knn с косинусной близостью справился немного лучше, чем knn с евклидовым расстоянием."
   ]
  },
  {
   "cell_type": "code",
   "execution_count": null,
   "metadata": {},
   "outputs": [],
   "source": []
  }
 ],
 "metadata": {
  "colab": {
   "name": "Untitled2.ipynb",
   "provenance": []
  },
  "kernelspec": {
   "display_name": "Python 3",
   "language": "python",
   "name": "python3"
  },
  "language_info": {
   "codemirror_mode": {
    "name": "ipython",
    "version": 3
   },
   "file_extension": ".py",
   "mimetype": "text/x-python",
   "name": "python",
   "nbconvert_exporter": "python",
   "pygments_lexer": "ipython3",
   "version": "3.6.4"
  }
 },
 "nbformat": 4,
 "nbformat_minor": 1
}
